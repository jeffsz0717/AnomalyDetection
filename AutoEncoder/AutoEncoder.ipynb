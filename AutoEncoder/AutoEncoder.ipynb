{
 "cells": [
  {
   "cell_type": "code",
   "execution_count": 1,
   "metadata": {},
   "outputs": [
    {
     "name": "stderr",
     "output_type": "stream",
     "text": [
      "c:\\ProgramData\\Miniconda3\\envs\\fj\\lib\\site-packages\\tqdm\\auto.py:22: TqdmWarning: IProgress not found. Please update jupyter and ipywidgets. See https://ipywidgets.readthedocs.io/en/stable/user_install.html\n",
      "  from .autonotebook import tqdm as notebook_tqdm\n"
     ]
    }
   ],
   "source": [
    "import pandas as pd\n",
    "import numpy as np\n",
    "#nn -- Linear, Module, MSELoss, ReLU, Sequential, Sigmoid\n",
    "#optim -- adam\n",
    "from torch import nn, optim\n",
    "import torch\n",
    "from torch.utils.data import DataLoader, Dataset\n",
    "from sklearn import metrics #confusion_matrix, classification_report, f1_score, recall_score, precision_score\n",
    "import math, gc, copy"
   ]
  },
  {
   "cell_type": "markdown",
   "metadata": {},
   "source": [
    "## Data Reading"
   ]
  },
  {
   "cell_type": "code",
   "execution_count": 7,
   "metadata": {},
   "outputs": [
    {
     "name": "stderr",
     "output_type": "stream",
     "text": [
      "C:\\Users\\feifanjian\\AppData\\Local\\Temp\\ipykernel_19836\\3305448385.py:8: FutureWarning: The frame.append method is deprecated and will be removed from pandas in a future version. Use pandas.concat instead.\n",
      "  test_df = zero[int(round(zero.shape[0])*0.8):].append(one)\n"
     ]
    },
    {
     "data": {
      "text/plain": [
       "3171"
      ]
     },
     "execution_count": 7,
     "metadata": {},
     "output_type": "execute_result"
    }
   ],
   "source": [
    "df = pd.read_csv(\"../../Data/creditcard.csv\")\n",
    "del df[\"Time\"]\n",
    "\n",
    "zero = df[df[\"Class\"] == 0].sample(frac = 1, random_state= 1234)\n",
    "one = df[df[\"Class\"] != 0]\n",
    "\n",
    "train_df = zero[:int(round(zero.shape[0])*0.8)]\n",
    "test_df = zero[int(round(zero.shape[0])*0.8):].append(one)\n",
    "\n",
    "df[\"Amount\"] = np.log(df[\"Amount\"]+1).apply(lambda x: math.ceil(x * 10000)/10000)\n",
    "\n",
    "gc.collect()"
   ]
  },
  {
   "cell_type": "markdown",
   "metadata": {},
   "source": []
  },
  {
   "cell_type": "code",
   "execution_count": 8,
   "metadata": {},
   "outputs": [],
   "source": [
    "train_x = train_df.drop([\"Class\"], axis=1)\n",
    "train_y = train_df[\"Class\"]\n",
    "\n",
    "test_x = test_df.drop([\"Class\"], axis=1)\n",
    "test_y = test_df[\"Class\"]"
   ]
  },
  {
   "cell_type": "code",
   "execution_count": 9,
   "metadata": {},
   "outputs": [],
   "source": [
    "train_x = torch.tensor(train_x.to_numpy(), dtype=torch.float32)\n",
    "train_y = torch.tensor(train_y.to_numpy(), dtype=torch.float32)\n",
    "\n",
    "test_x = torch.tensor(test_x.to_numpy(), dtype=torch.float32)\n",
    "test_y = torch.tensor(test_y.to_numpy(), dtype=torch.float32)"
   ]
  },
  {
   "cell_type": "markdown",
   "metadata": {},
   "source": [
    "## AutoEncoder Model"
   ]
  },
  {
   "cell_type": "code",
   "execution_count": 10,
   "metadata": {},
   "outputs": [],
   "source": [
    "class AutoEncoder(nn.Module):\n",
    "    def __init__(self, input_dim):\n",
    "        super(AutoEncoder, self).__init__()\n",
    "        \n",
    "        self.encoder = nn.Sequential(\n",
    "            nn.Linear(input_dim, 16),\n",
    "            nn.ReLU(),\n",
    "            nn.Linear(16,8),\n",
    "            nn.ReLU(),\n",
    "            nn.Linear(8,4),\n",
    "            nn.ReLU()\n",
    "            )\n",
    "        self.decoder = nn.Sequential(\n",
    "            nn.Linear(4, 8),\n",
    "            nn.ReLU(),\n",
    "            nn.Linear(8, 16),\n",
    "            nn.ReLU(),\n",
    "            nn.Linear(16,input_dim)\n",
    "            )\n",
    "        \n",
    "    def forward(self, x):\n",
    "        encode = self.encoder(x)\n",
    "        decode = self.decoder(encode)\n",
    "        return decode\n"
   ]
  },
  {
   "cell_type": "code",
   "execution_count": 11,
   "metadata": {},
   "outputs": [],
   "source": [
    "class EarlyStopping:\n",
    "    def __init__(self, patience=10, min_delta=0, restore_best_weights=True):\n",
    "        self.patience = patience\n",
    "        self.min_delta = min_delta\n",
    "        self.restore_best_weights = restore_best_weights\n",
    "        self.best_model = None\n",
    "        self.best_loss = None\n",
    "        self.counter = 0\n",
    "        self.status = \"\"\n",
    "\n",
    "    def __call__(self, model, val_loss):\n",
    "        if self.best_loss is None:\n",
    "            self.best_loss = val_loss\n",
    "            self.best_model = copy.deepcopy(model.state_dict())\n",
    "        elif self.best_loss - val_loss >= self.min_delta:\n",
    "            self.best_model = copy.deepcopy(model.state_dict())\n",
    "            self.best_loss = val_loss\n",
    "            self.counter = 0\n",
    "            self.status = f\"Improvement found, counter reset to {self.counter}\"\n",
    "        else:\n",
    "            self.counter += 1\n",
    "            self.status = f\"No improvement in the last {self.counter} epochs\"\n",
    "            if self.counter >= self.patience:\n",
    "                self.status = f\"Early stopping triggered after {self.counter} epochs.\"\n",
    "                if self.restore_best_weights:\n",
    "                    model.load_state_dict(self.best_model)\n",
    "                return True\n",
    "        return False"
   ]
  },
  {
   "cell_type": "markdown",
   "metadata": {},
   "source": [
    "### Model Training"
   ]
  },
  {
   "cell_type": "code",
   "execution_count": 12,
   "metadata": {},
   "outputs": [],
   "source": [
    "'''\n",
    "model        Model to be trained\n",
    "optimizer    Used to minimze errors\n",
    "criterion    Used to compute errors\n",
    "'''\n",
    "seed = 1234\n",
    "torch.manual_seed(seed)\n",
    "input_dim = train_x.shape[1]\n",
    "\n",
    "\n",
    "device = torch.device(\"cuda\" if torch.cuda.is_available() else \"cpu\")\n",
    "model = AutoEncoder(input_dim).to(device)\n",
    "es = EarlyStopping()\n",
    "criterion = nn.MSELoss()\n",
    "optimizer = optim.Adam(model.parameters(), lr=0.001)\n",
    "\n",
    "train_loader = DataLoader(train_x, batch_size=50, shuffle=True, pin_memory=True)\n",
    "test_loader = DataLoader(test_x, batch_size=1, shuffle=False, pin_memory=True)"
   ]
  },
  {
   "cell_type": "code",
   "execution_count": 14,
   "metadata": {},
   "outputs": [
    {
     "name": "stdout",
     "output_type": "stream",
     "text": [
      "Epoch: 1, train loss: 107.8785, test loss: 1.1260\n",
      "Epoch: 2, train loss: 1.3968, test loss: 1.0382\n",
      "Epoch: 3, train loss: 1.5395, test loss: 1.0701\n",
      "Epoch: 4, train loss: 1.5097, test loss: 0.9840\n",
      "Epoch: 5, train loss: 1.3105, test loss: 1.2176\n",
      "Epoch: 6, train loss: 1.2494, test loss: 0.9626\n",
      "Epoch: 7, train loss: 1.5052, test loss: 0.9734\n",
      "Epoch: 8, train loss: 1.3085, test loss: 1.0660\n",
      "Epoch: 9, train loss: 1.2052, test loss: 1.0180\n",
      "Epoch: 10, train loss: 1.4404, test loss: 0.9432\n",
      "Epoch: 11, train loss: 1.0583, test loss: 0.9483\n",
      "Epoch: 12, train loss: 1.5967, test loss: 0.9750\n",
      "Epoch: 13, train loss: 1.3726, test loss: 1.0560\n",
      "Epoch: 14, train loss: 1.6735, test loss: 0.9168\n",
      "Epoch: 15, train loss: 1.1647, test loss: 0.8758\n",
      "Epoch: 16, train loss: 1.6174, test loss: 88.4783\n",
      "Epoch: 17, train loss: 1.1919, test loss: 1.1899\n",
      "Epoch: 18, train loss: 1.1656, test loss: 0.8820\n",
      "Epoch: 19, train loss: 1.5772, test loss: 0.8916\n",
      "Epoch: 20, train loss: 0.9671, test loss: 0.9026\n",
      "Epoch: 21, train loss: 1.4077, test loss: 0.9295\n",
      "Epoch: 22, train loss: 1.2767, test loss: 0.9645\n",
      "Epoch: 23, train loss: 1.1335, test loss: 0.9181\n",
      "Epoch: 24, train loss: 1.4492, test loss: 0.9577\n",
      "Early stopping triggered.\n"
     ]
    }
   ],
   "source": [
    "epochs = 50\n",
    "done = False\n",
    "report =  pd.DataFrame(columns=['train loss', 'valid loss'])\n",
    "report.index.name = \"epoch\"\n",
    "\n",
    "\n",
    "\n",
    "for epoch in range(epochs):\n",
    "    training_loss = 0.0\n",
    "    training_counter = 0\n",
    "    testing_loss = 0.0\n",
    "    testing_counter = 0\n",
    "    \n",
    "    for data in train_loader:\n",
    "        # Move data to device\n",
    "        data = data.to(device)\n",
    "        \n",
    "        # Zero the parameter gradients\n",
    "        optimizer.zero_grad()\n",
    "        # Forward pass\n",
    "        outputs = model(data)\n",
    "        # Loss calculation\n",
    "        loss = criterion(outputs, data)\n",
    "        # Backward propogation \n",
    "        loss.backward()\n",
    "        # update the optimizer \n",
    "        optimizer.step()\n",
    "        \n",
    "        training_loss += loss.item()\n",
    "        training_counter += 1\n",
    "        \n",
    "    \n",
    "    with torch.no_grad():\n",
    "        model.eval()\n",
    "        for data in test_loader:\n",
    "            data = data.to(device)\n",
    "            preds = model(data)\n",
    "            loss = criterion(preds, data)\n",
    "            testing_loss += loss.item()\n",
    "            testing_counter += 1\n",
    "        if es(model, testing_loss):\n",
    "                done = True\n",
    "                \n",
    "    if done:\n",
    "        print(f\"Early stopping triggered.\")\n",
    "        break\n",
    "        \n",
    "    report.loc[epoch,:] = [training_loss/training_counter, testing_loss/testing_counter]            \n",
    "    print(f\"Epoch: {epoch + 1}, train loss: {training_loss/training_counter:.4f}, test loss: {testing_loss/testing_counter:.4f}\")\n"
   ]
  },
  {
   "cell_type": "code",
   "execution_count": 15,
   "metadata": {},
   "outputs": [],
   "source": [
    "thresholding_errors = []\n",
    "with torch.no_grad():\n",
    "    for data in test_loader:\n",
    "        data = data.to(device)\n",
    "        preds = model(data)\n",
    "        error = torch.mean(torch.square(preds - data), dim=1)\n",
    "        thresholding_errors.extend(error.cpu().numpy())"
   ]
  },
  {
   "cell_type": "code",
   "execution_count": 156,
   "metadata": {},
   "outputs": [],
   "source": [
    "#error_median = sorted(thresholding_errors)[len(thresholding_errors)//2]\n",
    "#error_mean = np.mean(thresholding_errors)\n",
    "#probability = [1/(1+np.exp(-x+error_mean)) for x in thresholding_errors]"
   ]
  },
  {
   "cell_type": "code",
   "execution_count": 21,
   "metadata": {},
   "outputs": [
    {
     "data": {
      "text/plain": [
       "0.8757794615062816"
      ]
     },
     "execution_count": 21,
     "metadata": {},
     "output_type": "execute_result"
    }
   ],
   "source": [
    "sum(thresholding_errors)/len(test_x)"
   ]
  },
  {
   "cell_type": "code",
   "execution_count": 22,
   "metadata": {},
   "outputs": [],
   "source": [
    "evaluation_df = pd.DataFrame({\"thresholding_errors\": thresholding_errors, \"label\": test_y})\n",
    "thresholding_df = pd.DataFrame(columns=[\"threshold\", \"precision\", \"recall\", \"f1\"])\n",
    "\n",
    "for i in range(100, 1001, 50):\n",
    "    threshold = sorted(thresholding_errors)[-i]\n",
    "    evaluation_df[\"pred\"] = np.where(evaluation_df.thresholding_errors >= threshold, 1, 0)\n",
    "    thresholding_df.loc[len(thresholding_df),:] = [i, \n",
    "                        metrics.precision_score(evaluation_df[\"label\"], evaluation_df[\"pred\"]),\n",
    "                        metrics.recall_score(evaluation_df[\"label\"], evaluation_df[\"pred\"]),\n",
    "                        metrics.f1_score(evaluation_df[\"label\"], evaluation_df[\"pred\"]),\n",
    "                        ]"
   ]
  },
  {
   "cell_type": "code",
   "execution_count": 23,
   "metadata": {},
   "outputs": [
    {
     "name": "stderr",
     "output_type": "stream",
     "text": [
      "c:\\ProgramData\\Miniconda3\\envs\\fj\\lib\\site-packages\\pandas\\core\\indexes\\base.py:6982: FutureWarning: In a future version, the Index constructor will not infer numeric dtypes when passed object-dtype sequences (matching Series behavior)\n",
      "  return Index(sequences[0], name=names)\n"
     ]
    },
    {
     "data": {
      "text/plain": [
       "<AxesSubplot:xlabel='threshold'>"
      ]
     },
     "execution_count": 23,
     "metadata": {},
     "output_type": "execute_result"
    },
    {
     "data": {
      "image/png": "[encoded data removed]",
      "text/plain": [
       "<Figure size 432x288 with 1 Axes>"
      ]
     },
     "metadata": {
      "needs_background": "light"
     },
     "output_type": "display_data"
    }
   ],
   "source": [
    "thresholding_df.plot(x = \"threshold\", y = [\"precision\", \"recall\", \"f1\"])"
   ]
  }
 ],
 "metadata": {
  "kernelspec": {
   "display_name": "fj",
   "language": "python",
   "name": "python3"
  },
  "language_info": {
   "codemirror_mode": {
    "name": "ipython",
    "version": 3
   },
   "file_extension": ".py",
   "mimetype": "text/x-python",
   "name": "python",
   "nbconvert_exporter": "python",
   "pygments_lexer": "ipython3",
   "version": "3.9.12"
  }
 },
 "nbformat": 4,
 "nbformat_minor": 2
}
