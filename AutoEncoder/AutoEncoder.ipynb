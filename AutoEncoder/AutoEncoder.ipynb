{
 "cells": [
  {
   "cell_type": "code",
   "execution_count": 105,
   "metadata": {},
   "outputs": [],
   "source": [
    "import pandas as pd\n",
    "import numpy as np\n",
    "#nn -- Linear, Module, MSELoss, ReLU, Sequential, Sigmoid\n",
    "#optim -- adam\n",
    "from torch import nn, optim\n",
    "import torch\n",
    "from torch.utils.data import DataLoader, Dataset\n",
    "from sklearn import metrics #confusion_matrix, classification_report, f1_score, recall_score, precision_score\n",
    "import math, gc"
   ]
  },
  {
   "cell_type": "markdown",
   "metadata": {},
   "source": [
    "## Data Reading"
   ]
  },
  {
   "cell_type": "code",
   "execution_count": 58,
   "metadata": {},
   "outputs": [
    {
     "name": "stderr",
     "output_type": "stream",
     "text": [
      "C:\\Users\\feifanjian\\AppData\\Local\\Temp\\ipykernel_19624\\1716954114.py:8: FutureWarning: The frame.append method is deprecated and will be removed from pandas in a future version. Use pandas.concat instead.\n",
      "  test_df = zero[int(round(zero.shape[0])*0.8):].append(one)\n"
     ]
    }
   ],
   "source": [
    "df = pd.read_csv(\"Data/creditcard.csv\")\n",
    "del df[\"Time\"]\n",
    "\n",
    "zero = df[df[\"Class\"] == 0].sample(frac = 1, random_state= 1234)\n",
    "one = df[df[\"Class\"] != 0]\n",
    "\n",
    "train_df = zero[:int(round(zero.shape[0])*0.8)]\n",
    "test_df = zero[int(round(zero.shape[0])*0.8):].append(one)\n",
    "\n",
    "df[\"Amount\"] = np.log(df[\"Amount\"]+1).apply(lambda x: math.ceil(x * 10000)/10000)\n",
    "\n",
    "gc.collect()"
   ]
  },
  {
   "cell_type": "markdown",
   "metadata": {},
   "source": []
  },
  {
   "cell_type": "code",
   "execution_count": 29,
   "metadata": {},
   "outputs": [],
   "source": [
    "train_x = train_df.drop([\"Class\"], axis=1)\n",
    "train_y = train_df[\"Class\"]\n",
    "\n",
    "test_x = test_df.drop([\"Class\"], axis=1)\n",
    "test_y = test_df[\"Class\"]"
   ]
  },
  {
   "cell_type": "code",
   "execution_count": 62,
   "metadata": {},
   "outputs": [],
   "source": [
    "train_x = torch.tensor(train_x.to_numpy(), dtype=torch.float32)\n",
    "train_y = torch.tensor(train_y.to_numpy(), dtype=torch.float32)\n",
    "\n",
    "test_x = torch.tensor(test_x.to_numpy(), dtype=torch.float32)\n",
    "test_y = torch.tensor(test_y.to_numpy(), dtype=torch.float32)"
   ]
  },
  {
   "cell_type": "markdown",
   "metadata": {},
   "source": [
    "## AutoEncoder Model"
   ]
  },
  {
   "cell_type": "code",
   "execution_count": 93,
   "metadata": {},
   "outputs": [],
   "source": [
    "class AutoEncoder(nn.Module):\n",
    "    def __init__(self, input_dim):\n",
    "        super(AutoEncoder, self).__init__()\n",
    "        \n",
    "        self.encoder = nn.Sequential(\n",
    "            nn.Linear(input_dim, 16),\n",
    "            nn.ReLU(),\n",
    "            nn.Linear(16,8),\n",
    "            nn.ReLU(),\n",
    "            nn.Linear(8,4),\n",
    "            nn.ReLU()\n",
    "            )\n",
    "        self.decoder = nn.Sequential(\n",
    "            nn.Linear(4, 8),\n",
    "            nn.ReLU(),\n",
    "            nn.Linear(8, 16),\n",
    "            nn.ReLU(),\n",
    "            nn.Linear(16,input_dim)\n",
    "            )\n",
    "        \n",
    "    def forward(self, x):\n",
    "        encode = self.encoder(x)\n",
    "        decode = self.decoder(encode)\n",
    "        return decode\n"
   ]
  },
  {
   "cell_type": "markdown",
   "metadata": {},
   "source": [
    "### Model Training"
   ]
  },
  {
   "cell_type": "code",
   "execution_count": 73,
   "metadata": {},
   "outputs": [],
   "source": [
    "'''\n",
    "model        Model to be trained\n",
    "optimizer    Used to minimze errors\n",
    "criterion    Used to compute errors\n",
    "'''\n",
    "seed = 1234\n",
    "torch.manual_seed(seed)\n",
    "input_dim = train_x.shape[1]\n",
    "\n",
    "\n",
    "device = torch.device(\"cuda\" if torch.cuda.is_available() else \"cpu\")\n",
    "model = AutoEncoder(input_dim).to(device)\n",
    "criterion = nn.MSELoss()\n",
    "optimizer = optim.Adam(model.parameters(), lr=0.001)\n",
    "\n",
    "train_loader = DataLoader(train_x, batch_size=50, shuffle=True, pin_memory=True)\n",
    "test_loader = DataLoader(test_x, batch_size=1, shuffle=False, pin_memory=True)"
   ]
  },
  {
   "cell_type": "code",
   "execution_count": 95,
   "metadata": {},
   "outputs": [
    {
     "name": "stdout",
     "output_type": "stream",
     "text": [
      "Epoch: 1, train loss: 2.2801, test loss: 1.1268\n",
      "Epoch: 2, train loss: 1.5140, test loss: 1.1368\n",
      "Epoch: 3, train loss: 1.0992, test loss: 1.1202\n",
      "Epoch: 4, train loss: 1.2953, test loss: 1.4731\n",
      "Epoch: 5, train loss: 1.0704, test loss: 1.1580\n",
      "Epoch: 6, train loss: 1.3283, test loss: 1.1156\n",
      "Epoch: 7, train loss: 1.2010, test loss: 1.1157\n",
      "Epoch: 8, train loss: 1.0046, test loss: 1.1180\n",
      "Epoch: 9, train loss: 1.4512, test loss: 1.1190\n",
      "Epoch: 10, train loss: 2.1064, test loss: 1.1829\n",
      "Epoch: 11, train loss: 1.0162, test loss: 1.1625\n",
      "Epoch: 12, train loss: 1.3973, test loss: 1.1653\n",
      "Epoch: 13, train loss: 1.0704, test loss: 1.2657\n",
      "Epoch: 14, train loss: 1.3366, test loss: 1.1290\n",
      "Epoch: 15, train loss: 1.0029, test loss: 1.1121\n",
      "Epoch: 16, train loss: 1.2014, test loss: 1.1062\n",
      "Epoch: 17, train loss: 1.1318, test loss: 1.1209\n",
      "Epoch: 18, train loss: 1.0373, test loss: 1.1100\n",
      "Epoch: 19, train loss: 1.1544, test loss: 1.1042\n",
      "Epoch: 20, train loss: 1.2801, test loss: 2.5238\n",
      "Epoch: 21, train loss: 1.2849, test loss: 1.1078\n",
      "Epoch: 22, train loss: 1.5438, test loss: 1.1645\n",
      "Epoch: 23, train loss: 0.9467, test loss: 1.6381\n",
      "Epoch: 24, train loss: 1.3012, test loss: 1.1192\n",
      "Epoch: 25, train loss: 4.9609, test loss: 1.1966\n",
      "Epoch: 26, train loss: 0.9584, test loss: 1.1309\n",
      "Epoch: 27, train loss: 1.1885, test loss: 1.1319\n",
      "Epoch: 28, train loss: 1.1318, test loss: 1.1204\n",
      "Epoch: 29, train loss: 1.2248, test loss: 1.1154\n",
      "Epoch: 30, train loss: 1.1332, test loss: 1.1283\n",
      "Epoch: 31, train loss: 1.0319, test loss: 1.1212\n",
      "Epoch: 32, train loss: 1.8099, test loss: 1.1506\n",
      "Epoch: 33, train loss: 1.0496, test loss: 1.7353\n",
      "Epoch: 34, train loss: 1.2848, test loss: 1.1164\n",
      "Epoch: 35, train loss: 1.0448, test loss: 1.1104\n",
      "Epoch: 36, train loss: 1.0513, test loss: 1.1124\n",
      "Epoch: 37, train loss: 1.0510, test loss: 1.1138\n",
      "Epoch: 38, train loss: 1.4287, test loss: 1.1097\n",
      "Epoch: 39, train loss: 1.1068, test loss: 1.1123\n",
      "Epoch: 40, train loss: 1.0464, test loss: 1.1239\n",
      "Epoch: 41, train loss: 1.2983, test loss: 1.1246\n",
      "Epoch: 42, train loss: 1.9722, test loss: 1.1469\n",
      "Epoch: 43, train loss: 1.0753, test loss: 1.1166\n",
      "Epoch: 44, train loss: 1.3192, test loss: 1.1489\n",
      "Epoch: 45, train loss: 1.0035, test loss: 1.1121\n",
      "Epoch: 46, train loss: 1.0758, test loss: 1.1420\n",
      "Epoch: 47, train loss: 1.3093, test loss: 1.1179\n",
      "Epoch: 48, train loss: 1.2547, test loss: 1.4576\n",
      "Epoch: 49, train loss: 1.0410, test loss: 1.1190\n",
      "Epoch: 50, train loss: 1.2323, test loss: 1.1552\n"
     ]
    }
   ],
   "source": [
    "epochs = 50\n",
    "report =  pd.DataFrame(columns=['train loss', 'valid loss'])\n",
    "report.index.name = \"epoch\"\n",
    "\n",
    "for epoch in range(epochs):\n",
    "    training_loss = 0.0\n",
    "    training_counter = 0\n",
    "    testing_loss = 0.0\n",
    "    testing_counter = 0\n",
    "    \n",
    "    for data in train_loader:\n",
    "        # Move data to device\n",
    "        data = data.to(device)\n",
    "        \n",
    "        # Zero the parameter gradients\n",
    "        optimizer.zero_grad()\n",
    "        # Forward pass\n",
    "        outputs = model(data)\n",
    "        # Loss calculation\n",
    "        loss = criterion(outputs, data)\n",
    "        # Backward propogation \n",
    "        loss.backward()\n",
    "        # update the optimizer \n",
    "        optimizer.step()\n",
    "        \n",
    "        training_loss += loss.item()\n",
    "        training_counter += 1\n",
    "        \n",
    "    with torch.no_grad():\n",
    "        model.eval()\n",
    "        for data in test_loader:\n",
    "            data = data.to(device)\n",
    "            preds = model(data)\n",
    "            loss = criterion(preds, data)\n",
    "            testing_loss += loss.item()\n",
    "            testing_counter += 1\n",
    "    \n",
    "    report.loc[epoch,:] = [training_loss/training_counter, testing_loss/testing_counter]            \n",
    "    print(f\"Epoch: {epoch + 1}, train loss: {training_loss/training_counter:.4f}, test loss: {testing_loss/testing_counter:.4f}\")"
   ]
  },
  {
   "cell_type": "code",
   "execution_count": 106,
   "metadata": {},
   "outputs": [],
   "source": [
    "thresholding_errors = []\n",
    "with torch.no_grad():\n",
    "    for data in test_loader:\n",
    "        data = data.to(device)\n",
    "        preds = model(data)\n",
    "        error = torch.mean(torch.square(preds - data), dim=1)\n",
    "        thresholding_errors.extend(error.cpu().numpy())"
   ]
  },
  {
   "cell_type": "code",
   "execution_count": 156,
   "metadata": {},
   "outputs": [],
   "source": [
    "#error_median = sorted(thresholding_errors)[len(thresholding_errors)//2]\n",
    "#error_mean = np.mean(thresholding_errors)\n",
    "#probability = [1/(1+np.exp(-x+error_mean)) for x in thresholding_errors]"
   ]
  },
  {
   "cell_type": "code",
   "execution_count": 167,
   "metadata": {},
   "outputs": [
    {
     "data": {
      "text/plain": [
       "5.9358916"
      ]
     },
     "execution_count": 167,
     "metadata": {},
     "output_type": "execute_result"
    }
   ],
   "source": [
    "sorted(thresholding_errors)[-1000]"
   ]
  },
  {
   "cell_type": "code",
   "execution_count": 172,
   "metadata": {},
   "outputs": [],
   "source": [
    "evaluation_df = pd.DataFrame({\"thresholding_errors\": thresholding_errors, \"label\": test_y})\n",
    "thresholding_df = pd.DataFrame(columns=[\"threshold\", \"precision\", \"recall\", \"f1\"])\n",
    "\n",
    "for i in range(100, 1001, 50):\n",
    "    threshold = sorted(thresholding_errors)[-i]\n",
    "    evaluation_df[\"pred\"] = np.where(evaluation_df.thresholding_errors >= threshold, 1, 0)\n",
    "    thresholding_df.loc[len(thresholding_df),:] = [i, \n",
    "                        metrics.precision_score(evaluation_df[\"label\"], evaluation_df[\"pred\"]),\n",
    "                        metrics.recall_score(evaluation_df[\"label\"], evaluation_df[\"pred\"]),\n",
    "                        metrics.f1_score(evaluation_df[\"label\"], evaluation_df[\"pred\"]),\n",
    "                        ]"
   ]
  },
  {
   "cell_type": "code",
   "execution_count": 173,
   "metadata": {},
   "outputs": [
    {
     "name": "stderr",
     "output_type": "stream",
     "text": [
      "c:\\ProgramData\\Miniconda3\\envs\\fj\\lib\\site-packages\\pandas\\core\\indexes\\base.py:6982: FutureWarning: In a future version, the Index constructor will not infer numeric dtypes when passed object-dtype sequences (matching Series behavior)\n",
      "  return Index(sequences[0], name=names)\n"
     ]
    },
    {
     "data": {
      "text/plain": [
       "<AxesSubplot:xlabel='threshold'>"
      ]
     },
     "execution_count": 173,
     "metadata": {},
     "output_type": "execute_result"
    },
    {
     "data": {
      "image/png": "[encoded data removed]",
      "text/plain": [
       "<Figure size 432x288 with 1 Axes>"
      ]
     },
     "metadata": {
      "needs_background": "light"
     },
     "output_type": "display_data"
    }
   ],
   "source": [
    "thresholding_df.plot(x = \"threshold\", y = [\"precision\", \"recall\", \"f1\"])"
   ]
  }
 ],
 "metadata": {
  "kernelspec": {
   "display_name": "fj",
   "language": "python",
   "name": "python3"
  },
  "language_info": {
   "codemirror_mode": {
    "name": "ipython",
    "version": 3
   },
   "file_extension": ".py",
   "mimetype": "text/x-python",
   "name": "python",
   "nbconvert_exporter": "python",
   "pygments_lexer": "ipython3",
   "version": "3.9.12"
  }
 },
 "nbformat": 4,
 "nbformat_minor": 2
}
