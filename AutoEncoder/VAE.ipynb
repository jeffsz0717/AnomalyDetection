{
 "cells": [
  {
   "cell_type": "code",
   "execution_count": 1,
   "metadata": {},
   "outputs": [
    {
     "name": "stderr",
     "output_type": "stream",
     "text": [
      "c:\\ProgramData\\Miniconda3\\envs\\fj\\lib\\site-packages\\tqdm\\auto.py:22: TqdmWarning: IProgress not found. Please update jupyter and ipywidgets. See https://ipywidgets.readthedocs.io/en/stable/user_install.html\n",
      "  from .autonotebook import tqdm as notebook_tqdm\n"
     ]
    }
   ],
   "source": [
    "import pandas as pd\n",
    "import numpy as np\n",
    "#nn -- Linear, Module, MSELoss, ReLU, Sequential, Sigmoid\n",
    "#optim -- adam\n",
    "from torch import nn, optim\n",
    "import torch\n",
    "from torch.utils.data import DataLoader, Dataset\n",
    "from sklearn import metrics #confusion_matrix, classification_report, f1_score, recall_score, precision_score\n",
    "import math, gc, copy"
   ]
  },
  {
   "cell_type": "markdown",
   "metadata": {},
   "source": [
    "## Data Reading"
   ]
  },
  {
   "cell_type": "code",
   "execution_count": 2,
   "metadata": {},
   "outputs": [
    {
     "name": "stderr",
     "output_type": "stream",
     "text": [
      "C:\\Users\\feifanjian\\AppData\\Local\\Temp\\ipykernel_38500\\3305448385.py:8: FutureWarning: The frame.append method is deprecated and will be removed from pandas in a future version. Use pandas.concat instead.\n",
      "  test_df = zero[int(round(zero.shape[0])*0.8):].append(one)\n"
     ]
    },
    {
     "data": {
      "text/plain": [
       "0"
      ]
     },
     "execution_count": 2,
     "metadata": {},
     "output_type": "execute_result"
    }
   ],
   "source": [
    "df = pd.read_csv(\"../../Data/creditcard.csv\")\n",
    "del df[\"Time\"]\n",
    "\n",
    "zero = df[df[\"Class\"] == 0].sample(frac = 1, random_state= 1234)\n",
    "one = df[df[\"Class\"] != 0]\n",
    "\n",
    "train_df = zero[:int(round(zero.shape[0])*0.8)]\n",
    "test_df = zero[int(round(zero.shape[0])*0.8):].append(one)\n",
    "\n",
    "df[\"Amount\"] = np.log(df[\"Amount\"]+1).apply(lambda x: math.ceil(x * 10000)/10000)\n",
    "\n",
    "gc.collect()"
   ]
  },
  {
   "cell_type": "markdown",
   "metadata": {},
   "source": []
  },
  {
   "cell_type": "code",
   "execution_count": 3,
   "metadata": {},
   "outputs": [],
   "source": [
    "train_x = train_df.drop([\"Class\"], axis=1)\n",
    "train_y = train_df[\"Class\"]\n",
    "\n",
    "test_x = test_df.drop([\"Class\"], axis=1)\n",
    "test_y = test_df[\"Class\"]"
   ]
  },
  {
   "cell_type": "code",
   "execution_count": 4,
   "metadata": {},
   "outputs": [],
   "source": [
    "train_x = torch.tensor(train_x.to_numpy(), dtype=torch.float32)\n",
    "train_y = torch.tensor(train_y.to_numpy(), dtype=torch.float32)\n",
    "\n",
    "test_x = torch.tensor(test_x.to_numpy(), dtype=torch.float32)\n",
    "test_y = torch.tensor(test_y.to_numpy(), dtype=torch.float32)"
   ]
  },
  {
   "cell_type": "markdown",
   "metadata": {},
   "source": [
    "## AutoEncoder Model"
   ]
  },
  {
   "cell_type": "code",
   "execution_count": 28,
   "metadata": {},
   "outputs": [],
   "source": [
    "class VAE(nn.Module):\n",
    "    def __init__(self, input_dim):\n",
    "        super(VAE, self).__init__()\n",
    "        \n",
    "        #returns a small negative value. This helps to avoid the \"dying ReLU\" problem\n",
    "        self.encoder = nn.Sequential(\n",
    "            nn.Linear(input_dim, 16),\n",
    "            nn.LeakyReLU(0.1),\n",
    "            nn.Linear(16,8),\n",
    "            nn.LeakyReLU(0.1)\n",
    "            )\n",
    "        \n",
    "        self.mu = nn.Sequential(\n",
    "            nn.Linear(8,4)\n",
    "        )        \n",
    "        self.sigma = nn.Sequential(\n",
    "            nn.Linear(8,4)\n",
    "        )      \n",
    "        \n",
    "        self.decoder = nn.Sequential(\n",
    "            nn.Linear(4, 8),\n",
    "            nn.LeakyReLU(0.1),\n",
    "            nn.Linear(8, 16),\n",
    "            nn.LeakyReLU(0.1),\n",
    "            nn.Linear(16,input_dim)\n",
    "            )\n",
    "        \n",
    "    def forward(self, x):\n",
    "        encode = self.encoder(x)\n",
    "        mean = self.mu(encode)\n",
    "        log_var  = self.sigma(encode)\n",
    "        epsilon = torch.distributions.normal.Normal(0, 1).sample(torch.Size([mean.shape[0], mean.shape[1]])).to(mean.device) #torch.randn_like(mean).to(mean.device)\n",
    "        z = mean + torch.exp(0.5 * log_var) * epsilon\n",
    "        decode = self.decoder(z)\n",
    "        return decode\n"
   ]
  },
  {
   "cell_type": "code",
   "execution_count": 29,
   "metadata": {},
   "outputs": [],
   "source": [
    "class EarlyStopping:\n",
    "    def __init__(self, patience=10, min_delta=0, restore_best_weights=True):\n",
    "        self.patience = patience\n",
    "        self.min_delta = min_delta\n",
    "        self.restore_best_weights = restore_best_weights\n",
    "        self.best_model = None\n",
    "        self.best_loss = None\n",
    "        self.counter = 0\n",
    "        self.status = \"\"\n",
    "\n",
    "    def __call__(self, model, val_loss):\n",
    "        if self.best_loss is None:\n",
    "            self.best_loss = val_loss\n",
    "            self.best_model = copy.deepcopy(model.state_dict())\n",
    "        elif self.best_loss - val_loss >= self.min_delta:\n",
    "            self.best_model = copy.deepcopy(model.state_dict())\n",
    "            self.best_loss = val_loss\n",
    "            self.counter = 0\n",
    "            self.status = f\"Improvement found, counter reset to {self.counter}\"\n",
    "        else:\n",
    "            self.counter += 1\n",
    "            self.status = f\"No improvement in the last {self.counter} epochs\"\n",
    "            if self.counter >= self.patience:\n",
    "                self.status = f\"Early stopping triggered after {self.counter} epochs.\"\n",
    "                if self.restore_best_weights:\n",
    "                    model.load_state_dict(self.best_model)\n",
    "                return True\n",
    "        return False"
   ]
  },
  {
   "cell_type": "markdown",
   "metadata": {},
   "source": [
    "### Model Training"
   ]
  },
  {
   "cell_type": "code",
   "execution_count": 30,
   "metadata": {},
   "outputs": [],
   "source": [
    "'''\n",
    "model        Model to be trained\n",
    "optimizer    Used to minimze errors\n",
    "criterion    Used to compute errors\n",
    "'''\n",
    "seed = 1234\n",
    "torch.manual_seed(seed)\n",
    "input_dim = train_x.shape[1]\n",
    "\n",
    "\n",
    "device = torch.device(\"cuda\" if torch.cuda.is_available() else \"cpu\")\n",
    "model = VAE(input_dim).to(device)\n",
    "es = EarlyStopping()\n",
    "criterion = nn.MSELoss()\n",
    "optimizer = optim.Adam(model.parameters(), lr=0.001)\n",
    "\n",
    "train_loader = DataLoader(train_x, batch_size=50, shuffle=True, pin_memory=True)\n",
    "test_loader = DataLoader(test_x, batch_size=1, shuffle=False, pin_memory=True)"
   ]
  },
  {
   "cell_type": "code",
   "execution_count": 31,
   "metadata": {},
   "outputs": [
    {
     "name": "stdout",
     "output_type": "stream",
     "text": [
      "Epoch: 1, train loss: 26340171082170636435456.0000, test loss: 1141088.9107\n",
      "Epoch: 2, train loss: 2559597012244850802688.0000, test loss: 2192642.3589\n",
      "Epoch: 3, train loss: 34359165564861810737152.0000, test loss: 3261714.7940\n",
      "Epoch: 4, train loss: 8629430653294826487808.0000, test loss: 6911922.0485\n",
      "Epoch: 5, train loss: 130098559529109570977792.0000, test loss: 2572179.1465\n",
      "Epoch: 6, train loss: 41142649711447913791488.0000, test loss: 1757183.6029\n",
      "Epoch: 7, train loss: 406136787806220416.0000, test loss: 58260110.6194\n",
      "Epoch: 8, train loss: 13934358011260759441408.0000, test loss: 686311.3081\n",
      "Epoch: 9, train loss: 572892294437928828928.0000, test loss: 625058.9437\n",
      "Epoch: 10, train loss: 19278938300435126026240.0000, test loss: 4584519.1506\n",
      "Epoch: 11, train loss: 5921032953590240509952.0000, test loss: 3034084.6000\n",
      "Epoch: 12, train loss: 3967221194923447943168.0000, test loss: 93997886.2301\n",
      "Epoch: 13, train loss: 1545065423064795352924160.0000, test loss: 378865.3735\n",
      "Epoch: 14, train loss: 2231670562430758682624.0000, test loss: 618595.7916\n",
      "Epoch: 15, train loss: 79903083670114278572032.0000, test loss: 62864054.2328\n",
      "Epoch: 16, train loss: 13129554250560153059328.0000, test loss: 126865981.2257\n",
      "Epoch: 17, train loss: 1891000952344221327556608.0000, test loss: 2864341.9084\n",
      "Epoch: 18, train loss: 266104299940148129300480.0000, test loss: 1040420.9693\n",
      "Epoch: 19, train loss: 15574117239435403722752.0000, test loss: 5387140.3324\n",
      "Epoch: 20, train loss: 7730145599107188654080.0000, test loss: 6170372.1653\n",
      "Epoch: 21, train loss: 119747733609702223773696.0000, test loss: 33000.9918\n",
      "Epoch: 22, train loss: 2069386010975369496100864.0000, test loss: 348658839.4250\n",
      "Epoch: 23, train loss: 655618117418531815424.0000, test loss: 12357300.3994\n",
      "Epoch: 24, train loss: 2069936882246660833411072.0000, test loss: 31860881.7266\n",
      "Epoch: 25, train loss: 2674989685160940616548352.0000, test loss: 418864.2608\n",
      "Epoch: 26, train loss: 633194455777249893285888.0000, test loss: 2031276.2777\n",
      "Epoch: 27, train loss: 186330554963020843319296.0000, test loss: 2479431.0726\n",
      "Epoch: 28, train loss: 6594280904583022355939328.0000, test loss: 367137263.8351\n",
      "Epoch: 29, train loss: 48957371619038115921920.0000, test loss: 1054914.4031\n",
      "Epoch: 30, train loss: 8768621288240838656.0000, test loss: 136157169.9092\n",
      "Early stopping triggered.\n"
     ]
    }
   ],
   "source": [
    "epochs = 50\n",
    "done = False\n",
    "report =  pd.DataFrame(columns=['train loss', 'valid loss'])\n",
    "report.index.name = \"epoch\"\n",
    "\n",
    "\n",
    "for epoch in range(epochs):\n",
    "    training_loss = 0.0\n",
    "    training_counter = 0\n",
    "    testing_loss = 0.0\n",
    "    testing_counter = 0\n",
    "    \n",
    "    for data in train_loader:\n",
    "        # Move data to device\n",
    "        data = data.to(device)\n",
    "        \n",
    "        # Zero the parameter gradients\n",
    "        optimizer.zero_grad()\n",
    "        # Forward pass\n",
    "        outputs = model(data)\n",
    "        # Loss calculation\n",
    "        loss = criterion(outputs, data)\n",
    "        # Backward propogation \n",
    "        loss.backward()\n",
    "        # update the optimizer \n",
    "        optimizer.step()\n",
    "        \n",
    "        training_loss += loss.item()\n",
    "        training_counter += 1\n",
    "        \n",
    "    \n",
    "    with torch.no_grad():\n",
    "        model.eval()\n",
    "        for data in test_loader:\n",
    "            data = data.to(device)\n",
    "            preds = model(data)\n",
    "            loss = criterion(preds, data)\n",
    "            testing_loss += loss.item()\n",
    "            testing_counter += 1\n",
    "        if es(model, testing_loss):\n",
    "                done = True\n",
    "                \n",
    "    if done:\n",
    "        print(f\"Early stopping triggered.\")\n",
    "        break\n",
    "        \n",
    "    report.loc[epoch,:] = [training_loss/training_counter, testing_loss/testing_counter]            \n",
    "    print(f\"Epoch: {epoch + 1}, train loss: {training_loss/training_counter:.4f}, test loss: {testing_loss/testing_counter:.4f}\")\n"
   ]
  },
  {
   "cell_type": "code",
   "execution_count": 36,
   "metadata": {},
   "outputs": [
    {
     "ename": "KeyboardInterrupt",
     "evalue": "",
     "output_type": "error",
     "traceback": [
      "\u001b[1;31m---------------------------------------------------------------------------\u001b[0m",
      "\u001b[1;31mKeyboardInterrupt\u001b[0m                         Traceback (most recent call last)",
      "Input \u001b[1;32mIn [36]\u001b[0m, in \u001b[0;36m<cell line: 2>\u001b[1;34m()\u001b[0m\n\u001b[0;32m      1\u001b[0m thresholding_errors \u001b[38;5;241m=\u001b[39m []\n\u001b[0;32m      2\u001b[0m \u001b[38;5;28;01mwith\u001b[39;00m torch\u001b[38;5;241m.\u001b[39mno_grad():\n\u001b[1;32m----> 3\u001b[0m     \u001b[38;5;28;01mfor\u001b[39;00m data \u001b[38;5;129;01min\u001b[39;00m test_loader:\n\u001b[0;32m      4\u001b[0m         data \u001b[38;5;241m=\u001b[39m data\u001b[38;5;241m.\u001b[39mto(device)\n\u001b[0;32m      5\u001b[0m         preds \u001b[38;5;241m=\u001b[39m model(data)\n",
      "File \u001b[1;32mc:\\ProgramData\\Miniconda3\\envs\\fj\\lib\\site-packages\\torch\\utils\\data\\dataloader.py:624\u001b[0m, in \u001b[0;36m_BaseDataLoaderIter.__next__\u001b[1;34m(self)\u001b[0m\n\u001b[0;32m    623\u001b[0m \u001b[38;5;28;01mdef\u001b[39;00m \u001b[38;5;21m__next__\u001b[39m(\u001b[38;5;28mself\u001b[39m) \u001b[38;5;241m-\u001b[39m\u001b[38;5;241m>\u001b[39m Any:\n\u001b[1;32m--> 624\u001b[0m     \u001b[38;5;28;01mwith\u001b[39;00m \u001b[43mtorch\u001b[49m\u001b[38;5;241;43m.\u001b[39;49m\u001b[43mautograd\u001b[49m\u001b[38;5;241;43m.\u001b[39;49m\u001b[43mprofiler\u001b[49m\u001b[38;5;241;43m.\u001b[39;49m\u001b[43mrecord_function\u001b[49m\u001b[43m(\u001b[49m\u001b[38;5;28;43mself\u001b[39;49m\u001b[38;5;241;43m.\u001b[39;49m\u001b[43m_profile_name\u001b[49m\u001b[43m)\u001b[49m:\n\u001b[0;32m    625\u001b[0m         \u001b[38;5;28;01mif\u001b[39;00m \u001b[38;5;28mself\u001b[39m\u001b[38;5;241m.\u001b[39m_sampler_iter \u001b[38;5;129;01mis\u001b[39;00m \u001b[38;5;28;01mNone\u001b[39;00m:\n\u001b[0;32m    626\u001b[0m             \u001b[38;5;66;03m# TODO(https://github.com/pytorch/pytorch/issues/76750)\u001b[39;00m\n\u001b[0;32m    627\u001b[0m             \u001b[38;5;28mself\u001b[39m\u001b[38;5;241m.\u001b[39m_reset()  \u001b[38;5;66;03m# type: ignore[call-arg]\u001b[39;00m\n",
      "File \u001b[1;32mc:\\ProgramData\\Miniconda3\\envs\\fj\\lib\\site-packages\\torch\\autograd\\profiler.py:485\u001b[0m, in \u001b[0;36mrecord_function.__init__\u001b[1;34m(self, name, args)\u001b[0m\n\u001b[0;32m    482\u001b[0m \u001b[38;5;28mself\u001b[39m\u001b[38;5;241m.\u001b[39mrun_callbacks_on_exit: \u001b[38;5;28mbool\u001b[39m \u001b[38;5;241m=\u001b[39m \u001b[38;5;28;01mTrue\u001b[39;00m\n\u001b[0;32m    483\u001b[0m \u001b[38;5;66;03m# Stores underlying RecordFunction as a tensor. TODO: move to custom\u001b[39;00m\n\u001b[0;32m    484\u001b[0m \u001b[38;5;66;03m# class (https://github.com/pytorch/pytorch/issues/35026).\u001b[39;00m\n\u001b[1;32m--> 485\u001b[0m \u001b[38;5;28mself\u001b[39m\u001b[38;5;241m.\u001b[39mhandle: torch\u001b[38;5;241m.\u001b[39mTensor \u001b[38;5;241m=\u001b[39m \u001b[43mtorch\u001b[49m\u001b[38;5;241;43m.\u001b[39;49m\u001b[43mzeros\u001b[49m\u001b[43m(\u001b[49m\u001b[38;5;241;43m1\u001b[39;49m\u001b[43m)\u001b[49m\n",
      "\u001b[1;31mKeyboardInterrupt\u001b[0m: "
     ]
    }
   ],
   "source": [
    "thresholding_errors = []\n",
    "with torch.no_grad():\n",
    "    for data in test_loader:\n",
    "        data = data.to(device)\n",
    "        preds = model(data)\n",
    "        error = torch.mean(torch.square(preds - data), dim=1)\n",
    "        thresholding_errors.extend(error.cpu().numpy())"
   ]
  },
  {
   "cell_type": "code",
   "execution_count": null,
   "metadata": {},
   "outputs": [],
   "source": [
    "#error_median = sorted(thresholding_errors)[len(thresholding_errors)//2]\n",
    "#error_mean = np.mean(thresholding_errors)\n",
    "#probability = [1/(1+np.exp(-x+error_mean)) for x in thresholding_errors]"
   ]
  },
  {
   "cell_type": "code",
   "execution_count": null,
   "metadata": {},
   "outputs": [],
   "source": [
    "evaluation_df = pd.DataFrame({\"thresholding_errors\": thresholding_errors, \"label\": test_y})\n",
    "thresholding_df = pd.DataFrame(columns=[\"threshold\", \"precision\", \"recall\", \"f1\"])\n",
    "\n",
    "for i in range(100, 1001, 50):\n",
    "    threshold = sorted(thresholding_errors)[-i]\n",
    "    evaluation_df[\"pred\"] = np.where(evaluation_df.thresholding_errors >= threshold, 1, 0)\n",
    "    thresholding_df.loc[len(thresholding_df),:] = [i, \n",
    "                        metrics.precision_score(evaluation_df[\"label\"], evaluation_df[\"pred\"]),\n",
    "                        metrics.recall_score(evaluation_df[\"label\"], evaluation_df[\"pred\"]),\n",
    "                        metrics.f1_score(evaluation_df[\"label\"], evaluation_df[\"pred\"]),\n",
    "                        ]"
   ]
  },
  {
   "cell_type": "code",
   "execution_count": 35,
   "metadata": {},
   "outputs": [
    {
     "name": "stderr",
     "output_type": "stream",
     "text": [
      "c:\\ProgramData\\Miniconda3\\envs\\fj\\lib\\site-packages\\pandas\\core\\indexes\\base.py:6982: FutureWarning: In a future version, the Index constructor will not infer numeric dtypes when passed object-dtype sequences (matching Series behavior)\n",
      "  return Index(sequences[0], name=names)\n"
     ]
    },
    {
     "data": {
      "text/plain": [
       "<AxesSubplot:xlabel='threshold'>"
      ]
     },
     "execution_count": 35,
     "metadata": {},
     "output_type": "execute_result"
    },
    {
     "data": {
      "image/png": "[encoded data removed]",
      "text/plain": [
       "<Figure size 432x288 with 1 Axes>"
      ]
     },
     "metadata": {
      "needs_background": "light"
     },
     "output_type": "display_data"
    }
   ],
   "source": [
    "thresholding_df.plot(x = \"threshold\", y = [\"precision\", \"recall\", \"f1\"])"
   ]
  },
  {
   "cell_type": "code",
   "execution_count": 23,
   "metadata": {},
   "outputs": [
    {
     "name": "stderr",
     "output_type": "stream",
     "text": [
      "c:\\ProgramData\\Miniconda3\\envs\\fj\\lib\\site-packages\\pandas\\core\\indexes\\base.py:6982: FutureWarning: In a future version, the Index constructor will not infer numeric dtypes when passed object-dtype sequences (matching Series behavior)\n",
      "  return Index(sequences[0], name=names)\n"
     ]
    },
    {
     "data": {
      "text/plain": [
       "<AxesSubplot:xlabel='threshold'>"
      ]
     },
     "execution_count": 23,
     "metadata": {},
     "output_type": "execute_result"
    },
    {
     "data": {
      "image/png": "[encoded data removed]",
      "text/plain": [
       "<Figure size 432x288 with 1 Axes>"
      ]
     },
     "metadata": {
      "needs_background": "light"
     },
     "output_type": "display_data"
    }
   ],
   "source": [
    "thresholding_df.plot(x = \"threshold\", y = [\"precision\", \"recall\", \"f1\"])"
   ]
  }
 ],
 "metadata": {
  "kernelspec": {
   "display_name": "fj",
   "language": "python",
   "name": "python3"
  },
  "language_info": {
   "codemirror_mode": {
    "name": "ipython",
    "version": 3
   },
   "file_extension": ".py",
   "mimetype": "text/x-python",
   "name": "python",
   "nbconvert_exporter": "python",
   "pygments_lexer": "ipython3",
   "version": "3.9.12"
  }
 },
 "nbformat": 4,
 "nbformat_minor": 2
}
